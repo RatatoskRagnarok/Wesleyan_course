{
 "cells": [
  {
   "cell_type": "markdown",
   "id": "palestinian-disaster",
   "metadata": {},
   "source": [
    "# Course 3 Assignment 2\n",
    "\n",
    "For this we need to centre our data and do a simple linear regression.\n",
    "\n",
    "One of the assumptions for a simple linear regression is that our data is independent. My data isn't independent, it is part of a longitudinal study where the same data is collected repeatedly from the same subjects (countries). So this isn't really a useful test, but is just to demonstrate that I know how to do it."
   ]
  },
  {
   "cell_type": "code",
   "execution_count": 1,
   "id": "incomplete-portland",
   "metadata": {},
   "outputs": [],
   "source": [
    "# import needed libraries\n",
    "import numpy as np\n",
    "import pandas as pd\n",
    "import matplotlib.pyplot as plt\n",
    "import seaborn as sns\n",
    "import statsmodels.api\n",
    "import statsmodels.formula.api as smf\n",
    "%matplotlib inline"
   ]
  },
  {
   "cell_type": "markdown",
   "id": "detected-integer",
   "metadata": {},
   "source": [
    "## Loading and preparing data"
   ]
  },
  {
   "cell_type": "code",
   "execution_count": 3,
   "id": "biblical-kingston",
   "metadata": {},
   "outputs": [],
   "source": [
    "# show all columns\n",
    "pd.set_option('display.max_columns', None)\n",
    "# loading the data from the local file\n",
    "df = pd.read_csv('data/covid_data.csv')"
   ]
  },
  {
   "cell_type": "code",
   "execution_count": 4,
   "id": "afraid-alabama",
   "metadata": {},
   "outputs": [
    {
     "data": {
      "text/html": [
       "<div>\n",
       "<style scoped>\n",
       "    .dataframe tbody tr th:only-of-type {\n",
       "        vertical-align: middle;\n",
       "    }\n",
       "\n",
       "    .dataframe tbody tr th {\n",
       "        vertical-align: top;\n",
       "    }\n",
       "\n",
       "    .dataframe thead th {\n",
       "        text-align: right;\n",
       "    }\n",
       "</style>\n",
       "<table border=\"1\" class=\"dataframe\">\n",
       "  <thead>\n",
       "    <tr style=\"text-align: right;\">\n",
       "      <th></th>\n",
       "      <th>location</th>\n",
       "      <th>date</th>\n",
       "      <th>new_cases_per_million</th>\n",
       "      <th>new_deaths_per_million</th>\n",
       "      <th>people_fully_vaccinated</th>\n",
       "      <th>human_development_index</th>\n",
       "      <th>population</th>\n",
       "      <th>percentage_fully_vaccinated</th>\n",
       "    </tr>\n",
       "  </thead>\n",
       "  <tbody>\n",
       "    <tr>\n",
       "      <th>81005</th>\n",
       "      <td>United States</td>\n",
       "      <td>2021-04-25</td>\n",
       "      <td>96.872</td>\n",
       "      <td>0.843</td>\n",
       "      <td>94772329.0</td>\n",
       "      <td>0.926</td>\n",
       "      <td>331002647.0</td>\n",
       "      <td>28.631895</td>\n",
       "    </tr>\n",
       "    <tr>\n",
       "      <th>81006</th>\n",
       "      <td>United States</td>\n",
       "      <td>2021-04-26</td>\n",
       "      <td>144.080</td>\n",
       "      <td>1.432</td>\n",
       "      <td>95888088.0</td>\n",
       "      <td>0.926</td>\n",
       "      <td>331002647.0</td>\n",
       "      <td>28.968979</td>\n",
       "    </tr>\n",
       "    <tr>\n",
       "      <th>81007</th>\n",
       "      <td>United States</td>\n",
       "      <td>2021-04-27</td>\n",
       "      <td>153.642</td>\n",
       "      <td>1.937</td>\n",
       "      <td>96747454.0</td>\n",
       "      <td>0.926</td>\n",
       "      <td>331002647.0</td>\n",
       "      <td>29.228604</td>\n",
       "    </tr>\n",
       "    <tr>\n",
       "      <th>81008</th>\n",
       "      <td>United States</td>\n",
       "      <td>2021-04-28</td>\n",
       "      <td>166.539</td>\n",
       "      <td>2.897</td>\n",
       "      <td>98044421.0</td>\n",
       "      <td>0.926</td>\n",
       "      <td>331002647.0</td>\n",
       "      <td>29.620434</td>\n",
       "    </tr>\n",
       "    <tr>\n",
       "      <th>81009</th>\n",
       "      <td>United States</td>\n",
       "      <td>2021-04-29</td>\n",
       "      <td>175.826</td>\n",
       "      <td>2.580</td>\n",
       "      <td>99668945.0</td>\n",
       "      <td>0.926</td>\n",
       "      <td>331002647.0</td>\n",
       "      <td>30.111223</td>\n",
       "    </tr>\n",
       "  </tbody>\n",
       "</table>\n",
       "</div>"
      ],
      "text/plain": [
       "            location       date  new_cases_per_million  \\\n",
       "81005  United States 2021-04-25                 96.872   \n",
       "81006  United States 2021-04-26                144.080   \n",
       "81007  United States 2021-04-27                153.642   \n",
       "81008  United States 2021-04-28                166.539   \n",
       "81009  United States 2021-04-29                175.826   \n",
       "\n",
       "       new_deaths_per_million  people_fully_vaccinated  \\\n",
       "81005                   0.843               94772329.0   \n",
       "81006                   1.432               95888088.0   \n",
       "81007                   1.937               96747454.0   \n",
       "81008                   2.897               98044421.0   \n",
       "81009                   2.580               99668945.0   \n",
       "\n",
       "       human_development_index   population  percentage_fully_vaccinated  \n",
       "81005                    0.926  331002647.0                    28.631895  \n",
       "81006                    0.926  331002647.0                    28.968979  \n",
       "81007                    0.926  331002647.0                    29.228604  \n",
       "81008                    0.926  331002647.0                    29.620434  \n",
       "81009                    0.926  331002647.0                    30.111223  "
      ]
     },
     "execution_count": 4,
     "metadata": {},
     "output_type": "execute_result"
    }
   ],
   "source": [
    "# prepare data\n",
    "df.date = pd.to_datetime(df.date)\n",
    "dfx = df.dropna(subset=['continent'])  # gets rid of summaries for 'world' and 'africa' etc, as I only want data for countries\n",
    "# the columns I need for this task\n",
    "cols = ['location', 'date', 'new_cases_per_million','new_deaths_per_million', 'people_fully_vaccinated', 'human_development_index', 'population']\n",
    "dfx = dfx[cols].dropna()  # getting rid of rows with empty data\n",
    "# getting rid of rows where new cases and  deaths are below zero (due to error correction)\n",
    "dfx = dfx[dfx.new_deaths_per_million >= 0]\n",
    "dfx = dfx[dfx.new_cases_per_million >= 0]\n",
    "# limiting it to 2021 which is when vaccinations really got started\n",
    "dfx = dfx[dfx['date'].dt.year == 2021]\n",
    "# so as to compare like with like, I'm keeping only countries with human development indices over 0.9\n",
    "dfx = dfx[dfx.human_development_index > 0.9]\n",
    "# calculating percentage of population fully vaccinated\n",
    "dfx['percentage_fully_vaccinated'] = (dfx.people_fully_vaccinated/dfx.population) * 100\n",
    "dfx.tail()"
   ]
  },
  {
   "cell_type": "markdown",
   "id": "flying-decrease",
   "metadata": {},
   "source": [
    "## Plot (again!)"
   ]
  },
  {
   "cell_type": "code",
   "execution_count": 12,
   "id": "charged-niagara",
   "metadata": {},
   "outputs": [
    {
     "data": {
      "image/png": "[encoded data removed]",
      "text/plain": [
       "<Figure size 432x288 with 1 Axes>"
      ]
     },
     "metadata": {
      "needs_background": "light"
     },
     "output_type": "display_data"
    }
   ],
   "source": [
    "g = sns.regplot(data=dfx, x=\"percentage_fully_vaccinated\", y=\"new_deaths_per_million\", scatter_kws={'alpha':0.5}, line_kws={'color':'red'})\n",
    "_ = g.set(ylim = (0, 30), xlabel='percentage fully vaccinated', ylabel='new deaths per million', title='new deaths vs percentage vaccinated')"
   ]
  },
  {
   "cell_type": "markdown",
   "id": "twelve-standard",
   "metadata": {},
   "source": [
    "## Centre mean of explanatory variable"
   ]
  },
  {
   "cell_type": "code",
   "execution_count": 14,
   "id": "perfect-meter",
   "metadata": {},
   "outputs": [
    {
     "data": {
      "text/plain": [
       "1.1682260230993534e-15"
      ]
     },
     "execution_count": 14,
     "metadata": {},
     "output_type": "execute_result"
    }
   ],
   "source": [
    "dfx['vaccinated_centred'] = dfx.percentage_fully_vaccinated - dfx.percentage_fully_vaccinated.mean()\n",
    "dfx.vaccinated_centred.mean()"
   ]
  },
  {
   "cell_type": "markdown",
   "id": "collectible-feelings",
   "metadata": {},
   "source": [
    "## Simple logistic regression"
   ]
  },
  {
   "cell_type": "code",
   "execution_count": 21,
   "id": "completed-twins",
   "metadata": {},
   "outputs": [
    {
     "data": {
      "text/html": [
       "<table class=\"simpletable\">\n",
       "<caption>OLS Regression Results</caption>\n",
       "<tr>\n",
       "  <th>Dep. Variable:</th>    <td>new_deaths_per_million</td> <th>  R-squared:         </th> <td>   0.016</td> \n",
       "</tr>\n",
       "<tr>\n",
       "  <th>Model:</th>                      <td>OLS</td>          <th>  Adj. R-squared:    </th> <td>   0.015</td> \n",
       "</tr>\n",
       "<tr>\n",
       "  <th>Method:</th>                <td>Least Squares</td>     <th>  F-statistic:       </th> <td>   30.08</td> \n",
       "</tr>\n",
       "<tr>\n",
       "  <th>Date:</th>                <td>Mon, 03 May 2021</td>    <th>  Prob (F-statistic):</th> <td>4.73e-08</td> \n",
       "</tr>\n",
       "<tr>\n",
       "  <th>Time:</th>                    <td>14:58:21</td>        <th>  Log-Likelihood:    </th> <td> -5145.4</td> \n",
       "</tr>\n",
       "<tr>\n",
       "  <th>No. Observations:</th>         <td>  1849</td>         <th>  AIC:               </th> <td>1.029e+04</td>\n",
       "</tr>\n",
       "<tr>\n",
       "  <th>Df Residuals:</th>             <td>  1847</td>         <th>  BIC:               </th> <td>1.031e+04</td>\n",
       "</tr>\n",
       "<tr>\n",
       "  <th>Df Model:</th>                 <td>     1</td>         <th>                     </th>     <td> </td>    \n",
       "</tr>\n",
       "<tr>\n",
       "  <th>Covariance Type:</th>         <td>nonrobust</td>       <th>                     </th>     <td> </td>    \n",
       "</tr>\n",
       "</table>\n",
       "<table class=\"simpletable\">\n",
       "<tr>\n",
       "           <td></td>             <th>coef</th>     <th>std err</th>      <th>t</th>      <th>P>|t|</th>  <th>[0.025</th>    <th>0.975]</th>  \n",
       "</tr>\n",
       "<tr>\n",
       "  <th>Intercept</th>          <td>    3.0752</td> <td>    0.091</td> <td>   33.790</td> <td> 0.000</td> <td>    2.897</td> <td>    3.254</td>\n",
       "</tr>\n",
       "<tr>\n",
       "  <th>vaccinated_centred</th> <td>   -0.0496</td> <td>    0.009</td> <td>   -5.484</td> <td> 0.000</td> <td>   -0.067</td> <td>   -0.032</td>\n",
       "</tr>\n",
       "</table>\n",
       "<table class=\"simpletable\">\n",
       "<tr>\n",
       "  <th>Omnibus:</th>       <td>931.487</td> <th>  Durbin-Watson:     </th> <td>   0.796</td>\n",
       "</tr>\n",
       "<tr>\n",
       "  <th>Prob(Omnibus):</th> <td> 0.000</td>  <th>  Jarque-Bera (JB):  </th> <td>5949.913</td>\n",
       "</tr>\n",
       "<tr>\n",
       "  <th>Skew:</th>          <td> 2.327</td>  <th>  Prob(JB):          </th> <td>    0.00</td>\n",
       "</tr>\n",
       "<tr>\n",
       "  <th>Kurtosis:</th>      <td>10.455</td>  <th>  Cond. No.          </th> <td>    10.1</td>\n",
       "</tr>\n",
       "</table><br/><br/>Notes:<br/>[1] Standard Errors assume that the covariance matrix of the errors is correctly specified."
      ],
      "text/plain": [
       "<class 'statsmodels.iolib.summary.Summary'>\n",
       "\"\"\"\n",
       "                              OLS Regression Results                              \n",
       "==================================================================================\n",
       "Dep. Variable:     new_deaths_per_million   R-squared:                       0.016\n",
       "Model:                                OLS   Adj. R-squared:                  0.015\n",
       "Method:                     Least Squares   F-statistic:                     30.08\n",
       "Date:                    Mon, 03 May 2021   Prob (F-statistic):           4.73e-08\n",
       "Time:                            14:58:21   Log-Likelihood:                -5145.4\n",
       "No. Observations:                    1849   AIC:                         1.029e+04\n",
       "Df Residuals:                        1847   BIC:                         1.031e+04\n",
       "Df Model:                               1                                         \n",
       "Covariance Type:                nonrobust                                         \n",
       "======================================================================================\n",
       "                         coef    std err          t      P>|t|      [0.025      0.975]\n",
       "--------------------------------------------------------------------------------------\n",
       "Intercept              3.0752      0.091     33.790      0.000       2.897       3.254\n",
       "vaccinated_centred    -0.0496      0.009     -5.484      0.000      -0.067      -0.032\n",
       "==============================================================================\n",
       "Omnibus:                      931.487   Durbin-Watson:                   0.796\n",
       "Prob(Omnibus):                  0.000   Jarque-Bera (JB):             5949.913\n",
       "Skew:                           2.327   Prob(JB):                         0.00\n",
       "Kurtosis:                      10.455   Cond. No.                         10.1\n",
       "==============================================================================\n",
       "\n",
       "Notes:\n",
       "[1] Standard Errors assume that the covariance matrix of the errors is correctly specified.\n",
       "\"\"\""
      ]
     },
     "execution_count": 21,
     "metadata": {},
     "output_type": "execute_result"
    }
   ],
   "source": [
    "reg = smf.ols('new_deaths_per_million ~ vaccinated_centred', data=dfx).fit()\n",
    "reg.summary()"
   ]
  },
  {
   "cell_type": "markdown",
   "id": "organic-contrary",
   "metadata": {},
   "source": [
    "## Summary"
   ]
  },
  {
   "cell_type": "markdown",
   "id": "following-involvement",
   "metadata": {},
   "source": [
    "The results of the linear regression model show that the pergcentage of the population fully vaccinated (Beta=-0.0496, p<0.001) is significantly and negatively associated with the number of new deaths per million people. That is, the higher the percentage of people vaccinated, the lower the number of new deaths.\n",
    "\n",
    "However, this assumes that my data is independent, which it is not, it is from a longitudinal study where data is repeatedly taken from the same subjects (countries), so the regression analysis is not actually suitable or reliable."
   ]
  }
 ],
 "metadata": {
  "kernelspec": {
   "display_name": "Python (michigan)",
   "language": "python",
   "name": "michigan"
  },
  "language_info": {
   "codemirror_mode": {
    "name": "ipython",
    "version": 3
   },
   "file_extension": ".py",
   "mimetype": "text/x-python",
   "name": "python",
   "nbconvert_exporter": "python",
   "pygments_lexer": "ipython3",
   "version": "3.9.2"
  }
 },
 "nbformat": 4,
 "nbformat_minor": 5
}
