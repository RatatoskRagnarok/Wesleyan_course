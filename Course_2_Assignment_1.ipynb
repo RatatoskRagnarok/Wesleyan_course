{
 "cells": [
  {
   "cell_type": "markdown",
   "id": "novel-universe",
   "metadata": {},
   "source": [
    "# Course 2 Assignment 1\n",
    "\n",
    "For this assignment we had to perform an ANOVA test and a post hoc comparison, then interpret the results"
   ]
  },
  {
   "cell_type": "code",
   "execution_count": 1,
   "id": "loving-bhutan",
   "metadata": {},
   "outputs": [],
   "source": [
    "# import needed libraries\n",
    "import numpy as np\n",
    "import pandas as pd\n",
    "import statsmodels.formula.api as smf\n",
    "import statsmodels.stats.multicomp as multi"
   ]
  },
  {
   "cell_type": "markdown",
   "id": "innovative-belgium",
   "metadata": {},
   "source": [
    "### Loading and preparing data"
   ]
  },
  {
   "cell_type": "code",
   "execution_count": 2,
   "id": "correct-giving",
   "metadata": {},
   "outputs": [],
   "source": [
    "# show all columns\n",
    "pd.set_option('display.max_columns', None)\n",
    "# loading the data from the local file\n",
    "df = pd.read_csv('data/covid_data.csv')"
   ]
  },
  {
   "cell_type": "code",
   "execution_count": 3,
   "id": "obvious-shuttle",
   "metadata": {},
   "outputs": [],
   "source": [
    "# prepare data\n",
    "df.date = pd.to_datetime(df.date)\n",
    "dfx = df.dropna(subset=['continent'])  # gets rid of summaries for 'world' and 'africa' etc, as I only want data for countries\n",
    "# the columns I need for this task\n",
    "cols = ['location', 'date', 'new_deaths_per_million', 'people_fully_vaccinated', 'human_development_index', 'population']\n",
    "dfx = dfx[cols].dropna()  # getting rid of rows with empty data\n",
    "# getting rid of rows where new deaths are below zero (due to error correction I guess?)\n",
    "dfx = dfx[dfx.new_deaths_per_million >= 0]\n",
    "# limiting it to 2021 which is when vaccinations really got started\n",
    "dfx = dfx[dfx['date'].dt.year == 2021]\n",
    "# so as to compare like with like, I'm keeping only countries with human development indices over 0.9\n",
    "dfx = dfx[dfx.human_development_index > 0.9]"
   ]
  },
  {
   "cell_type": "code",
   "execution_count": 4,
   "id": "weighted-breakdown",
   "metadata": {},
   "outputs": [
    {
     "data": {
      "text/html": [
       "<div>\n",
       "<style scoped>\n",
       "    .dataframe tbody tr th:only-of-type {\n",
       "        vertical-align: middle;\n",
       "    }\n",
       "\n",
       "    .dataframe tbody tr th {\n",
       "        vertical-align: top;\n",
       "    }\n",
       "\n",
       "    .dataframe thead th {\n",
       "        text-align: right;\n",
       "    }\n",
       "</style>\n",
       "<table border=\"1\" class=\"dataframe\">\n",
       "  <thead>\n",
       "    <tr style=\"text-align: right;\">\n",
       "      <th></th>\n",
       "      <th>location</th>\n",
       "      <th>date</th>\n",
       "      <th>new_deaths_per_million</th>\n",
       "      <th>people_fully_vaccinated</th>\n",
       "      <th>human_development_index</th>\n",
       "      <th>population</th>\n",
       "      <th>percentage_fully_vaccinated</th>\n",
       "    </tr>\n",
       "  </thead>\n",
       "  <tbody>\n",
       "    <tr>\n",
       "      <th>5245</th>\n",
       "      <td>Austria</td>\n",
       "      <td>2021-01-15</td>\n",
       "      <td>7.328</td>\n",
       "      <td>1.0</td>\n",
       "      <td>0.922</td>\n",
       "      <td>9006400.0</td>\n",
       "      <td>0.000011</td>\n",
       "    </tr>\n",
       "    <tr>\n",
       "      <th>5246</th>\n",
       "      <td>Austria</td>\n",
       "      <td>2021-01-16</td>\n",
       "      <td>7.328</td>\n",
       "      <td>10.0</td>\n",
       "      <td>0.922</td>\n",
       "      <td>9006400.0</td>\n",
       "      <td>0.000111</td>\n",
       "    </tr>\n",
       "    <tr>\n",
       "      <th>5247</th>\n",
       "      <td>Austria</td>\n",
       "      <td>2021-01-17</td>\n",
       "      <td>3.220</td>\n",
       "      <td>370.0</td>\n",
       "      <td>0.922</td>\n",
       "      <td>9006400.0</td>\n",
       "      <td>0.004108</td>\n",
       "    </tr>\n",
       "    <tr>\n",
       "      <th>5248</th>\n",
       "      <td>Austria</td>\n",
       "      <td>2021-01-18</td>\n",
       "      <td>4.441</td>\n",
       "      <td>1261.0</td>\n",
       "      <td>0.922</td>\n",
       "      <td>9006400.0</td>\n",
       "      <td>0.014001</td>\n",
       "    </tr>\n",
       "    <tr>\n",
       "      <th>5249</th>\n",
       "      <td>Austria</td>\n",
       "      <td>2021-01-19</td>\n",
       "      <td>8.549</td>\n",
       "      <td>2714.0</td>\n",
       "      <td>0.922</td>\n",
       "      <td>9006400.0</td>\n",
       "      <td>0.030134</td>\n",
       "    </tr>\n",
       "  </tbody>\n",
       "</table>\n",
       "</div>"
      ],
      "text/plain": [
       "     location       date  new_deaths_per_million  people_fully_vaccinated  \\\n",
       "5245  Austria 2021-01-15                   7.328                      1.0   \n",
       "5246  Austria 2021-01-16                   7.328                     10.0   \n",
       "5247  Austria 2021-01-17                   3.220                    370.0   \n",
       "5248  Austria 2021-01-18                   4.441                   1261.0   \n",
       "5249  Austria 2021-01-19                   8.549                   2714.0   \n",
       "\n",
       "      human_development_index  population  percentage_fully_vaccinated  \n",
       "5245                    0.922   9006400.0                     0.000011  \n",
       "5246                    0.922   9006400.0                     0.000111  \n",
       "5247                    0.922   9006400.0                     0.004108  \n",
       "5248                    0.922   9006400.0                     0.014001  \n",
       "5249                    0.922   9006400.0                     0.030134  "
      ]
     },
     "execution_count": 4,
     "metadata": {},
     "output_type": "execute_result"
    }
   ],
   "source": [
    "# calculating percentage of population fully vaccinated\n",
    "dfx['percentage_fully_vaccinated'] = (dfx.people_fully_vaccinated/dfx.population) * 100\n",
    "dfx.head()"
   ]
  },
  {
   "cell_type": "markdown",
   "id": "municipal-brooklyn",
   "metadata": {},
   "source": [
    "#### splitting data into bins to make a categorical variable"
   ]
  },
  {
   "cell_type": "code",
   "execution_count": 5,
   "id": "efficient-concrete",
   "metadata": {},
   "outputs": [
    {
     "data": {
      "text/plain": [
       "count    1854.000000\n",
       "mean        5.748426\n",
       "std        10.134611\n",
       "min         0.000011\n",
       "25%         1.034173\n",
       "50%         2.853313\n",
       "75%         5.814792\n",
       "max        58.816924\n",
       "Name: percentage_fully_vaccinated, dtype: float64"
      ]
     },
     "execution_count": 5,
     "metadata": {},
     "output_type": "execute_result"
    }
   ],
   "source": [
    "dfx.percentage_fully_vaccinated.describe()  # examining data to determine how to split it into bins"
   ]
  },
  {
   "cell_type": "code",
   "execution_count": 6,
   "id": "typical-torture",
   "metadata": {},
   "outputs": [
    {
     "data": {
      "text/html": [
       "<div>\n",
       "<style scoped>\n",
       "    .dataframe tbody tr th:only-of-type {\n",
       "        vertical-align: middle;\n",
       "    }\n",
       "\n",
       "    .dataframe tbody tr th {\n",
       "        vertical-align: top;\n",
       "    }\n",
       "\n",
       "    .dataframe thead th {\n",
       "        text-align: right;\n",
       "    }\n",
       "</style>\n",
       "<table border=\"1\" class=\"dataframe\">\n",
       "  <thead>\n",
       "    <tr style=\"text-align: right;\">\n",
       "      <th></th>\n",
       "      <th>location</th>\n",
       "      <th>date</th>\n",
       "      <th>new_deaths_per_million</th>\n",
       "      <th>people_fully_vaccinated</th>\n",
       "      <th>human_development_index</th>\n",
       "      <th>population</th>\n",
       "      <th>percentage_fully_vaccinated</th>\n",
       "      <th>percentage_band</th>\n",
       "    </tr>\n",
       "  </thead>\n",
       "  <tbody>\n",
       "    <tr>\n",
       "      <th>81005</th>\n",
       "      <td>United States</td>\n",
       "      <td>2021-04-25</td>\n",
       "      <td>0.843</td>\n",
       "      <td>94772329.0</td>\n",
       "      <td>0.926</td>\n",
       "      <td>331002647.0</td>\n",
       "      <td>28.631895</td>\n",
       "      <td>10 to 30%</td>\n",
       "    </tr>\n",
       "    <tr>\n",
       "      <th>81006</th>\n",
       "      <td>United States</td>\n",
       "      <td>2021-04-26</td>\n",
       "      <td>1.432</td>\n",
       "      <td>95888088.0</td>\n",
       "      <td>0.926</td>\n",
       "      <td>331002647.0</td>\n",
       "      <td>28.968979</td>\n",
       "      <td>10 to 30%</td>\n",
       "    </tr>\n",
       "    <tr>\n",
       "      <th>81007</th>\n",
       "      <td>United States</td>\n",
       "      <td>2021-04-27</td>\n",
       "      <td>1.937</td>\n",
       "      <td>96747454.0</td>\n",
       "      <td>0.926</td>\n",
       "      <td>331002647.0</td>\n",
       "      <td>29.228604</td>\n",
       "      <td>10 to 30%</td>\n",
       "    </tr>\n",
       "    <tr>\n",
       "      <th>81008</th>\n",
       "      <td>United States</td>\n",
       "      <td>2021-04-28</td>\n",
       "      <td>2.897</td>\n",
       "      <td>98044421.0</td>\n",
       "      <td>0.926</td>\n",
       "      <td>331002647.0</td>\n",
       "      <td>29.620434</td>\n",
       "      <td>10 to 30%</td>\n",
       "    </tr>\n",
       "    <tr>\n",
       "      <th>81009</th>\n",
       "      <td>United States</td>\n",
       "      <td>2021-04-29</td>\n",
       "      <td>2.580</td>\n",
       "      <td>99668945.0</td>\n",
       "      <td>0.926</td>\n",
       "      <td>331002647.0</td>\n",
       "      <td>30.111223</td>\n",
       "      <td>over 30%</td>\n",
       "    </tr>\n",
       "  </tbody>\n",
       "</table>\n",
       "</div>"
      ],
      "text/plain": [
       "            location       date  new_deaths_per_million  \\\n",
       "81005  United States 2021-04-25                   0.843   \n",
       "81006  United States 2021-04-26                   1.432   \n",
       "81007  United States 2021-04-27                   1.937   \n",
       "81008  United States 2021-04-28                   2.897   \n",
       "81009  United States 2021-04-29                   2.580   \n",
       "\n",
       "       people_fully_vaccinated  human_development_index   population  \\\n",
       "81005               94772329.0                    0.926  331002647.0   \n",
       "81006               95888088.0                    0.926  331002647.0   \n",
       "81007               96747454.0                    0.926  331002647.0   \n",
       "81008               98044421.0                    0.926  331002647.0   \n",
       "81009               99668945.0                    0.926  331002647.0   \n",
       "\n",
       "       percentage_fully_vaccinated percentage_band  \n",
       "81005                    28.631895       10 to 30%  \n",
       "81006                    28.968979       10 to 30%  \n",
       "81007                    29.228604       10 to 30%  \n",
       "81008                    29.620434       10 to 30%  \n",
       "81009                    30.111223        over 30%  "
      ]
     },
     "execution_count": 6,
     "metadata": {},
     "output_type": "execute_result"
    }
   ],
   "source": [
    "# bins mostly based on quartile ranges, but because spread is so wide adding extras at top end\n",
    "bins = [0, 1, 3, 6, 10, 30, 60]  \n",
    "dfx['percentage_band'] = pd.cut(dfx.percentage_fully_vaccinated, bins, labels=['less than 1%', '1 to 3%', '3 to 6%', '6 to 10%', '10 to 30%', 'over 30%'])\n",
    "dfx.tail()"
   ]
  },
  {
   "cell_type": "markdown",
   "id": "pressed-pointer",
   "metadata": {},
   "source": [
    "### ANOVA test"
   ]
  },
  {
   "cell_type": "code",
   "execution_count": 7,
   "id": "seasonal-penny",
   "metadata": {},
   "outputs": [
    {
     "data": {
      "text/html": [
       "<table class=\"simpletable\">\n",
       "<caption>OLS Regression Results</caption>\n",
       "<tr>\n",
       "  <th>Dep. Variable:</th>    <td>new_deaths_per_million</td> <th>  R-squared:         </th> <td>   0.061</td> \n",
       "</tr>\n",
       "<tr>\n",
       "  <th>Model:</th>                      <td>OLS</td>          <th>  Adj. R-squared:    </th> <td>   0.058</td> \n",
       "</tr>\n",
       "<tr>\n",
       "  <th>Method:</th>                <td>Least Squares</td>     <th>  F-statistic:       </th> <td>   23.81</td> \n",
       "</tr>\n",
       "<tr>\n",
       "  <th>Date:</th>                <td>Sat, 01 May 2021</td>    <th>  Prob (F-statistic):</th> <td>2.85e-23</td> \n",
       "</tr>\n",
       "<tr>\n",
       "  <th>Time:</th>                    <td>15:47:50</td>        <th>  Log-Likelihood:    </th> <td> -5114.7</td> \n",
       "</tr>\n",
       "<tr>\n",
       "  <th>No. Observations:</th>         <td>  1854</td>         <th>  AIC:               </th> <td>1.024e+04</td>\n",
       "</tr>\n",
       "<tr>\n",
       "  <th>Df Residuals:</th>             <td>  1848</td>         <th>  BIC:               </th> <td>1.027e+04</td>\n",
       "</tr>\n",
       "<tr>\n",
       "  <th>Df Model:</th>                 <td>     5</td>         <th>                     </th>     <td> </td>    \n",
       "</tr>\n",
       "<tr>\n",
       "  <th>Covariance Type:</th>         <td>nonrobust</td>       <th>                     </th>     <td> </td>    \n",
       "</tr>\n",
       "</table>\n",
       "<table class=\"simpletable\">\n",
       "<tr>\n",
       "                 <td></td>                    <th>coef</th>     <th>std err</th>      <th>t</th>      <th>P>|t|</th>  <th>[0.025</th>    <th>0.975]</th>  \n",
       "</tr>\n",
       "<tr>\n",
       "  <th>Intercept</th>                       <td>    4.5522</td> <td>    0.179</td> <td>   25.445</td> <td> 0.000</td> <td>    4.201</td> <td>    4.903</td>\n",
       "</tr>\n",
       "<tr>\n",
       "  <th>C(percentage_band)[T.1 to 3%]</th>   <td>   -1.3096</td> <td>    0.246</td> <td>   -5.316</td> <td> 0.000</td> <td>   -1.793</td> <td>   -0.826</td>\n",
       "</tr>\n",
       "<tr>\n",
       "  <th>C(percentage_band)[T.3 to 6%]</th>   <td>   -2.3864</td> <td>    0.255</td> <td>   -9.374</td> <td> 0.000</td> <td>   -2.886</td> <td>   -1.887</td>\n",
       "</tr>\n",
       "<tr>\n",
       "  <th>C(percentage_band)[T.6 to 10%]</th>  <td>   -2.3049</td> <td>    0.295</td> <td>   -7.815</td> <td> 0.000</td> <td>   -2.883</td> <td>   -1.726</td>\n",
       "</tr>\n",
       "<tr>\n",
       "  <th>C(percentage_band)[T.10 to 30%]</th> <td>   -1.7862</td> <td>    0.421</td> <td>   -4.248</td> <td> 0.000</td> <td>   -2.611</td> <td>   -0.961</td>\n",
       "</tr>\n",
       "<tr>\n",
       "  <th>C(percentage_band)[T.over 30%]</th>  <td>   -2.9904</td> <td>    0.479</td> <td>   -6.240</td> <td> 0.000</td> <td>   -3.930</td> <td>   -2.051</td>\n",
       "</tr>\n",
       "</table>\n",
       "<table class=\"simpletable\">\n",
       "<tr>\n",
       "  <th>Omnibus:</th>       <td>866.459</td> <th>  Durbin-Watson:     </th> <td>   0.836</td>\n",
       "</tr>\n",
       "<tr>\n",
       "  <th>Prob(Omnibus):</th> <td> 0.000</td>  <th>  Jarque-Bera (JB):  </th> <td>5310.217</td>\n",
       "</tr>\n",
       "<tr>\n",
       "  <th>Skew:</th>          <td> 2.133</td>  <th>  Prob(JB):          </th> <td>    0.00</td>\n",
       "</tr>\n",
       "<tr>\n",
       "  <th>Kurtosis:</th>      <td>10.109</td>  <th>  Cond. No.          </th> <td>    6.66</td>\n",
       "</tr>\n",
       "</table><br/><br/>Notes:<br/>[1] Standard Errors assume that the covariance matrix of the errors is correctly specified."
      ],
      "text/plain": [
       "<class 'statsmodels.iolib.summary.Summary'>\n",
       "\"\"\"\n",
       "                              OLS Regression Results                              \n",
       "==================================================================================\n",
       "Dep. Variable:     new_deaths_per_million   R-squared:                       0.061\n",
       "Model:                                OLS   Adj. R-squared:                  0.058\n",
       "Method:                     Least Squares   F-statistic:                     23.81\n",
       "Date:                    Sat, 01 May 2021   Prob (F-statistic):           2.85e-23\n",
       "Time:                            15:47:50   Log-Likelihood:                -5114.7\n",
       "No. Observations:                    1854   AIC:                         1.024e+04\n",
       "Df Residuals:                        1848   BIC:                         1.027e+04\n",
       "Df Model:                               5                                         \n",
       "Covariance Type:                nonrobust                                         \n",
       "===================================================================================================\n",
       "                                      coef    std err          t      P>|t|      [0.025      0.975]\n",
       "---------------------------------------------------------------------------------------------------\n",
       "Intercept                           4.5522      0.179     25.445      0.000       4.201       4.903\n",
       "C(percentage_band)[T.1 to 3%]      -1.3096      0.246     -5.316      0.000      -1.793      -0.826\n",
       "C(percentage_band)[T.3 to 6%]      -2.3864      0.255     -9.374      0.000      -2.886      -1.887\n",
       "C(percentage_band)[T.6 to 10%]     -2.3049      0.295     -7.815      0.000      -2.883      -1.726\n",
       "C(percentage_band)[T.10 to 30%]    -1.7862      0.421     -4.248      0.000      -2.611      -0.961\n",
       "C(percentage_band)[T.over 30%]     -2.9904      0.479     -6.240      0.000      -3.930      -2.051\n",
       "==============================================================================\n",
       "Omnibus:                      866.459   Durbin-Watson:                   0.836\n",
       "Prob(Omnibus):                  0.000   Jarque-Bera (JB):             5310.217\n",
       "Skew:                           2.133   Prob(JB):                         0.00\n",
       "Kurtosis:                      10.109   Cond. No.                         6.66\n",
       "==============================================================================\n",
       "\n",
       "Notes:\n",
       "[1] Standard Errors assume that the covariance matrix of the errors is correctly specified.\n",
       "\"\"\""
      ]
     },
     "execution_count": 7,
     "metadata": {},
     "output_type": "execute_result"
    }
   ],
   "source": [
    "# using ols function for calculating the F-statistic and associated p value\n",
    "model = smf.ols(formula='new_deaths_per_million ~ C(percentage_band)', data=dfx)  # C means variable is categorical\n",
    "results = model.fit()\n",
    "results.summary()"
   ]
  },
  {
   "cell_type": "markdown",
   "id": "exempt-margin",
   "metadata": {},
   "source": [
    "### printing means and standard deviations"
   ]
  },
  {
   "cell_type": "code",
   "execution_count": 8,
   "id": "infrared-november",
   "metadata": {},
   "outputs": [
    {
     "name": "stdout",
     "output_type": "stream",
     "text": [
      "means for new deaths per million by percentage vaccinated\n"
     ]
    },
    {
     "data": {
      "text/plain": [
       "percentage_band\n",
       "less than 1%    4.552245\n",
       "1 to 3%         3.242680\n",
       "3 to 6%         2.165883\n",
       "6 to 10%        2.247361\n",
       "10 to 30%       2.766050\n",
       "over 30%        1.561811\n",
       "Name: new_deaths_per_million, dtype: float64"
      ]
     },
     "execution_count": 8,
     "metadata": {},
     "output_type": "execute_result"
    }
   ],
   "source": [
    "print('means for new deaths per million by percentage vaccinated')\n",
    "dfx.groupby('percentage_band')['new_deaths_per_million'].mean()"
   ]
  },
  {
   "cell_type": "code",
   "execution_count": 9,
   "id": "abroad-programming",
   "metadata": {},
   "outputs": [
    {
     "name": "stdout",
     "output_type": "stream",
     "text": [
      "standard deviations for new deaths per million by percentage vaccinated\n"
     ]
    },
    {
     "data": {
      "text/plain": [
       "percentage_band\n",
       "less than 1%    5.414749\n",
       "1 to 3%         4.059314\n",
       "3 to 6%         2.533056\n",
       "6 to 10%        2.542878\n",
       "10 to 30%       2.416557\n",
       "over 30%        1.284648\n",
       "Name: new_deaths_per_million, dtype: float64"
      ]
     },
     "execution_count": 9,
     "metadata": {},
     "output_type": "execute_result"
    }
   ],
   "source": [
    "print('standard deviations for new deaths per million by percentage vaccinated')\n",
    "dfx.groupby('percentage_band')['new_deaths_per_million'].std()"
   ]
  },
  {
   "cell_type": "markdown",
   "id": "moral-soundtrack",
   "metadata": {},
   "source": [
    "### Post hoc comparison"
   ]
  },
  {
   "cell_type": "code",
   "execution_count": 10,
   "id": "overhead-handle",
   "metadata": {},
   "outputs": [
    {
     "name": "stdout",
     "output_type": "stream",
     "text": [
      "Post hoc comparison\n"
     ]
    },
    {
     "data": {
      "text/html": [
       "<table class=\"simpletable\">\n",
       "<caption>Multiple Comparison of Means - Tukey HSD, FWER=0.05</caption>\n",
       "<tr>\n",
       "     <th>group1</th>       <th>group2</th>    <th>meandiff</th>  <th>p-adj</th>  <th>lower</th>   <th>upper</th>  <th>reject</th>\n",
       "</tr>\n",
       "<tr>\n",
       "     <td>1 to 3%</td>     <td>10 to 30%</td>   <td>-0.4766</td>  <td>0.848</td> <td>-1.6649</td> <td>0.7116</td>   <td>False</td>\n",
       "</tr>\n",
       "<tr>\n",
       "     <td>1 to 3%</td>      <td>3 to 6%</td>    <td>-1.0768</td>  <td>0.001</td> <td>-1.7841</td> <td>-0.3695</td>  <td>True</td> \n",
       "</tr>\n",
       "<tr>\n",
       "     <td>1 to 3%</td>     <td>6 to 10%</td>    <td>-0.9953</td> <td>0.0078</td> <td>-1.8205</td> <td>-0.1702</td>  <td>True</td> \n",
       "</tr>\n",
       "<tr>\n",
       "     <td>1 to 3%</td>   <td>less than 1%</td>  <td>1.3096</td>   <td>0.001</td> <td>0.6068</td>  <td>2.0123</td>   <td>True</td> \n",
       "</tr>\n",
       "<tr>\n",
       "     <td>1 to 3%</td>     <td>over 30%</td>    <td>-1.6809</td> <td>0.0056</td> <td>-3.038</td>  <td>-0.3237</td>  <td>True</td> \n",
       "</tr>\n",
       "<tr>\n",
       "    <td>10 to 30%</td>     <td>3 to 6%</td>    <td>-0.6002</td> <td>0.6865</td> <td>-1.8024</td> <td>0.6021</td>   <td>False</td>\n",
       "</tr>\n",
       "<tr>\n",
       "    <td>10 to 30%</td>    <td>6 to 10%</td>    <td>-0.5187</td> <td>0.8387</td> <td>-1.7938</td> <td>0.7565</td>   <td>False</td>\n",
       "</tr>\n",
       "<tr>\n",
       "    <td>10 to 30%</td>  <td>less than 1%</td>  <td>1.7862</td>   <td>0.001</td> <td>0.5866</td>  <td>2.9858</td>   <td>True</td> \n",
       "</tr>\n",
       "<tr>\n",
       "    <td>10 to 30%</td>    <td>over 30%</td>    <td>-1.2042</td> <td>0.3102</td> <td>-2.8737</td> <td>0.4652</td>   <td>False</td>\n",
       "</tr>\n",
       "<tr>\n",
       "     <td>3 to 6%</td>     <td>6 to 10%</td>    <td>0.0815</td>    <td>0.9</td>  <td>-0.7637</td> <td>0.9267</td>   <td>False</td>\n",
       "</tr>\n",
       "<tr>\n",
       "     <td>3 to 6%</td>   <td>less than 1%</td>  <td>2.3864</td>   <td>0.001</td> <td>1.6602</td>  <td>3.1125</td>   <td>True</td> \n",
       "</tr>\n",
       "<tr>\n",
       "     <td>3 to 6%</td>     <td>over 30%</td>    <td>-0.6041</td> <td>0.7821</td> <td>-1.9735</td> <td>0.7654</td>   <td>False</td>\n",
       "</tr>\n",
       "<tr>\n",
       "    <td>6 to 10%</td>   <td>less than 1%</td>  <td>2.3049</td>   <td>0.001</td> <td>1.4635</td>  <td>3.1463</td>   <td>True</td> \n",
       "</tr>\n",
       "<tr>\n",
       "    <td>6 to 10%</td>     <td>over 30%</td>    <td>-0.6856</td> <td>0.7212</td> <td>-2.1194</td> <td>0.7483</td>   <td>False</td>\n",
       "</tr>\n",
       "<tr>\n",
       "  <td>less than 1%</td>   <td>over 30%</td>    <td>-2.9904</td>  <td>0.001</td> <td>-4.3575</td> <td>-1.6233</td>  <td>True</td> \n",
       "</tr>\n",
       "</table>"
      ],
      "text/plain": [
       "<class 'statsmodels.iolib.table.SimpleTable'>"
      ]
     },
     "execution_count": 10,
     "metadata": {},
     "output_type": "execute_result"
    }
   ],
   "source": [
    "print('Post hoc comparison')\n",
    "mc = multi.MultiComparison(dfx.new_deaths_per_million, dfx.percentage_band)\n",
    "res = mc.tukeyhsd()\n",
    "res.summary()"
   ]
  },
  {
   "cell_type": "markdown",
   "id": "fallen-pricing",
   "metadata": {},
   "source": [
    "## Interpretation"
   ]
  },
  {
   "cell_type": "markdown",
   "id": "convinced-basic",
   "metadata": {},
   "source": [
    "ANOVA revealed that among countries with a Human Development Index of over 0.9 (my sample), the percentage of population vaccinated (collapsed into 6 ordered categories, which is the categorical variable) and the number of new deaths per million people (quantitative response variable) were significantly associated, F(5, 1843)=23.81 p<000.1.\n",
    "\n",
    "Post hoc comparisons of the mean number of new deaths per million people by pairs of population vaccinated categories showed the following:\n",
    "\n",
    "The mean new deaths when less than 1% of the population were vaccinated were significantly different from all other means.\n",
    "The mean new deaths when 1 to 3% of the population were vaccinated were significantly different from all other means, except for the 10 to 30% band.\n",
    "The other differences in means were not statistically significant."
   ]
  }
 ],
 "metadata": {
  "kernelspec": {
   "display_name": "Python (michigan)",
   "language": "python",
   "name": "michigan"
  },
  "language_info": {
   "codemirror_mode": {
    "name": "ipython",
    "version": 3
   },
   "file_extension": ".py",
   "mimetype": "text/x-python",
   "name": "python",
   "nbconvert_exporter": "python",
   "pygments_lexer": "ipython3",
   "version": "3.9.2"
  }
 },
 "nbformat": 4,
 "nbformat_minor": 5
}
