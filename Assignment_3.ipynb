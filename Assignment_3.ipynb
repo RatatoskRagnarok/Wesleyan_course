{
 "cells": [
  {
   "cell_type": "markdown",
   "id": "affiliated-cornell",
   "metadata": {},
   "source": [
    "# Assignment 3"
   ]
  },
  {
   "cell_type": "markdown",
   "id": "isolated-stylus",
   "metadata": {},
   "source": [
    "For assignment 3 we have to load our data, make 'data management decisions' and then make three frequency tables again.\n",
    "\n",
    "These data management decisions could include:\n",
    "- removing missing data\n",
    "- recoding data\n",
    "- binning or grouping on data\n",
    "\n",
    "As this is exactly what I did for assignment 2, here it is again, rewritten and slightly tweaked for your reading pleasure."
   ]
  },
  {
   "cell_type": "code",
   "execution_count": 1,
   "id": "hundred-frame",
   "metadata": {},
   "outputs": [],
   "source": [
    "# importing the libraries I need\n",
    "import pandas as pd\n",
    "import numpy as np"
   ]
  },
  {
   "cell_type": "code",
   "execution_count": 2,
   "id": "enclosed-refund",
   "metadata": {},
   "outputs": [],
   "source": [
    "# loading the data from the local file, and having a look at the first few rows\n",
    "df = pd.read_csv('data/covid_data.csv')"
   ]
  },
  {
   "cell_type": "markdown",
   "id": "spoken-darwin",
   "metadata": {},
   "source": [
    "#### Data Management Decision 1\n",
    "Because for this assignment I want to look at the total case and death rates, it makes sense to only look at the data for the last date I have full data for. At the time of writing, the last date I had full data for was 2021-04-28, so I will limit my dataframe to that date.\n",
    "\n",
    "I am also only intersted in countries, so I will remove the grouped data for 'world' and 'africa' etc."
   ]
  },
  {
   "cell_type": "code",
   "execution_count": 3,
   "id": "innocent-donna",
   "metadata": {},
   "outputs": [],
   "source": [
    "df.date = pd.to_datetime(df.date)\n",
    "df_latest = df[df.date == '2021-04-28']  # last date we have data for\n",
    "df_latest = df_latest.dropna(subset=['continent'])  # gets rid of summaries for 'world' and 'africa' etc, as I only want data for countries"
   ]
  },
  {
   "cell_type": "markdown",
   "id": "charged-welding",
   "metadata": {},
   "source": [
    "#### Data Management Decision 2\n",
    "\n",
    "The columns I want to make frequency tables for are 'total_cases_per_million', 'total_deaths_per_million' and 'human_development_index', so I will check for missing values from those columns.\n",
    "\n",
    "I will then restrict my current dataframe to just those columns and remove any rows which are missing data from those columns. (A total of 21 rows overall will be removed)"
   ]
  },
  {
   "cell_type": "code",
   "execution_count": 4,
   "id": "hearing-operations",
   "metadata": {},
   "outputs": [
    {
     "name": "stdout",
     "output_type": "stream",
     "text": [
      "False    190\n",
      "True       8\n",
      "Name: total_cases_per_million, dtype: int64\n",
      "False    182\n",
      "True      16\n",
      "Name: total_deaths_per_million, dtype: int64\n",
      "False    185\n",
      "True      13\n",
      "Name: human_development_index, dtype: int64\n"
     ]
    }
   ],
   "source": [
    "print(df_latest.total_cases_per_million.isnull().value_counts())\n",
    "print(df_latest.total_deaths_per_million.isnull().value_counts())\n",
    "print(df_latest.human_development_index.isnull().value_counts())"
   ]
  },
  {
   "cell_type": "code",
   "execution_count": 5,
   "id": "assisted-smell",
   "metadata": {},
   "outputs": [],
   "source": [
    "cols = ['location', 'total_cases_per_million', 'total_deaths_per_million', 'human_development_index']\n",
    "df_latest = df_latest[cols].dropna(subset=cols)  # removing the rows with missing data in these columns"
   ]
  },
  {
   "cell_type": "markdown",
   "id": "faced-housing",
   "metadata": {},
   "source": [
    "#### Data Management Decision 3\n",
    "\n",
    "Because I am dealing with quantitative data here, not categorical data, doing a frequency table makes no sense, so I will first bin the data into categories, using binning.\n",
    "\n",
    "I have decided on 3 categories for total cases and total deaths per million people, and five categories for the Human Development Index."
   ]
  },
  {
   "cell_type": "code",
   "execution_count": 6,
   "id": "middle-mitchell",
   "metadata": {},
   "outputs": [
    {
     "data": {
      "text/html": [
       "<div>\n",
       "<style scoped>\n",
       "    .dataframe tbody tr th:only-of-type {\n",
       "        vertical-align: middle;\n",
       "    }\n",
       "\n",
       "    .dataframe tbody tr th {\n",
       "        vertical-align: top;\n",
       "    }\n",
       "\n",
       "    .dataframe thead th {\n",
       "        text-align: right;\n",
       "    }\n",
       "</style>\n",
       "<table border=\"1\" class=\"dataframe\">\n",
       "  <thead>\n",
       "    <tr style=\"text-align: right;\">\n",
       "      <th></th>\n",
       "      <th>location</th>\n",
       "      <th>total_cases_per_million</th>\n",
       "      <th>total_deaths_per_million</th>\n",
       "      <th>human_development_index</th>\n",
       "      <th>total_case_rate</th>\n",
       "      <th>total_death_rate</th>\n",
       "      <th>development_rating</th>\n",
       "    </tr>\n",
       "  </thead>\n",
       "  <tbody>\n",
       "    <tr>\n",
       "      <th>429</th>\n",
       "      <td>Afghanistan</td>\n",
       "      <td>1525.110</td>\n",
       "      <td>67.072</td>\n",
       "      <td>0.511</td>\n",
       "      <td>low</td>\n",
       "      <td>low</td>\n",
       "      <td>low</td>\n",
       "    </tr>\n",
       "    <tr>\n",
       "      <th>1301</th>\n",
       "      <td>Albania</td>\n",
       "      <td>45471.888</td>\n",
       "      <td>829.106</td>\n",
       "      <td>0.795</td>\n",
       "      <td>low</td>\n",
       "      <td>low</td>\n",
       "      <td>high</td>\n",
       "    </tr>\n",
       "    <tr>\n",
       "      <th>1731</th>\n",
       "      <td>Algeria</td>\n",
       "      <td>2772.568</td>\n",
       "      <td>73.750</td>\n",
       "      <td>0.748</td>\n",
       "      <td>low</td>\n",
       "      <td>low</td>\n",
       "      <td>high</td>\n",
       "    </tr>\n",
       "    <tr>\n",
       "      <th>2155</th>\n",
       "      <td>Andorra</td>\n",
       "      <td>170167.605</td>\n",
       "      <td>1617.809</td>\n",
       "      <td>0.868</td>\n",
       "      <td>high</td>\n",
       "      <td>medium</td>\n",
       "      <td>high</td>\n",
       "    </tr>\n",
       "    <tr>\n",
       "      <th>2561</th>\n",
       "      <td>Angola</td>\n",
       "      <td>796.196</td>\n",
       "      <td>17.982</td>\n",
       "      <td>0.581</td>\n",
       "      <td>low</td>\n",
       "      <td>low</td>\n",
       "      <td>low</td>\n",
       "    </tr>\n",
       "    <tr>\n",
       "      <th>...</th>\n",
       "      <td>...</td>\n",
       "      <td>...</td>\n",
       "      <td>...</td>\n",
       "      <td>...</td>\n",
       "      <td>...</td>\n",
       "      <td>...</td>\n",
       "      <td>...</td>\n",
       "    </tr>\n",
       "    <tr>\n",
       "      <th>82835</th>\n",
       "      <td>Venezuela</td>\n",
       "      <td>6856.076</td>\n",
       "      <td>73.815</td>\n",
       "      <td>0.711</td>\n",
       "      <td>low</td>\n",
       "      <td>low</td>\n",
       "      <td>medium</td>\n",
       "    </tr>\n",
       "    <tr>\n",
       "      <th>83298</th>\n",
       "      <td>Vietnam</td>\n",
       "      <td>29.433</td>\n",
       "      <td>0.360</td>\n",
       "      <td>0.704</td>\n",
       "      <td>low</td>\n",
       "      <td>low</td>\n",
       "      <td>medium</td>\n",
       "    </tr>\n",
       "    <tr>\n",
       "      <th>84147</th>\n",
       "      <td>Yemen</td>\n",
       "      <td>209.985</td>\n",
       "      <td>40.770</td>\n",
       "      <td>0.470</td>\n",
       "      <td>low</td>\n",
       "      <td>low</td>\n",
       "      <td>very low</td>\n",
       "    </tr>\n",
       "    <tr>\n",
       "      <th>84555</th>\n",
       "      <td>Zambia</td>\n",
       "      <td>4976.296</td>\n",
       "      <td>67.940</td>\n",
       "      <td>0.584</td>\n",
       "      <td>low</td>\n",
       "      <td>low</td>\n",
       "      <td>low</td>\n",
       "    </tr>\n",
       "    <tr>\n",
       "      <th>84961</th>\n",
       "      <td>Zimbabwe</td>\n",
       "      <td>2569.548</td>\n",
       "      <td>105.296</td>\n",
       "      <td>0.571</td>\n",
       "      <td>low</td>\n",
       "      <td>low</td>\n",
       "      <td>low</td>\n",
       "    </tr>\n",
       "  </tbody>\n",
       "</table>\n",
       "<p>177 rows × 7 columns</p>\n",
       "</div>"
      ],
      "text/plain": [
       "          location  total_cases_per_million  total_deaths_per_million  \\\n",
       "429    Afghanistan                 1525.110                    67.072   \n",
       "1301       Albania                45471.888                   829.106   \n",
       "1731       Algeria                 2772.568                    73.750   \n",
       "2155       Andorra               170167.605                  1617.809   \n",
       "2561        Angola                  796.196                    17.982   \n",
       "...            ...                      ...                       ...   \n",
       "82835    Venezuela                 6856.076                    73.815   \n",
       "83298      Vietnam                   29.433                     0.360   \n",
       "84147        Yemen                  209.985                    40.770   \n",
       "84555       Zambia                 4976.296                    67.940   \n",
       "84961     Zimbabwe                 2569.548                   105.296   \n",
       "\n",
       "       human_development_index total_case_rate total_death_rate  \\\n",
       "429                      0.511             low              low   \n",
       "1301                     0.795             low              low   \n",
       "1731                     0.748             low              low   \n",
       "2155                     0.868            high           medium   \n",
       "2561                     0.581             low              low   \n",
       "...                        ...             ...              ...   \n",
       "82835                    0.711             low              low   \n",
       "83298                    0.704             low              low   \n",
       "84147                    0.470             low              low   \n",
       "84555                    0.584             low              low   \n",
       "84961                    0.571             low              low   \n",
       "\n",
       "      development_rating  \n",
       "429                  low  \n",
       "1301                high  \n",
       "1731                high  \n",
       "2155                high  \n",
       "2561                 low  \n",
       "...                  ...  \n",
       "82835             medium  \n",
       "83298             medium  \n",
       "84147           very low  \n",
       "84555                low  \n",
       "84961                low  \n",
       "\n",
       "[177 rows x 7 columns]"
      ]
     },
     "execution_count": 6,
     "metadata": {},
     "output_type": "execute_result"
    }
   ],
   "source": [
    "df_latest['total_case_rate'] = pd.cut(df_latest.total_cases_per_million, 3, labels=['low', 'medium', 'high'])\n",
    "df_latest['total_death_rate'] = pd.cut(df_latest.total_deaths_per_million, 3, labels=['low', 'medium', 'high'])\n",
    "bins = np.linspace(0.350, 1.0, 6)  # creating 5 equally spaced bins\n",
    "df_latest['development_rating'] = pd.cut(df_latest.human_development_index, bins, labels=['very low', 'low', 'medium', 'high', 'very high'])\n",
    "df_latest"
   ]
  },
  {
   "cell_type": "markdown",
   "id": "reverse-tooth",
   "metadata": {},
   "source": [
    "### Frequency Tables\n",
    "\n",
    "The frequency tables are below:"
   ]
  },
  {
   "cell_type": "code",
   "execution_count": 7,
   "id": "aerial-disclaimer",
   "metadata": {},
   "outputs": [
    {
     "name": "stdout",
     "output_type": "stream",
     "text": [
      "Total Case Rate Frequncy Table Percentages\n"
     ]
    },
    {
     "data": {
      "text/plain": [
       "low       0.751412\n",
       "medium    0.225989\n",
       "high      0.022599\n",
       "Name: total_case_rate, dtype: float64"
      ]
     },
     "execution_count": 7,
     "metadata": {},
     "output_type": "execute_result"
    }
   ],
   "source": [
    "print('Total Case Rate Frequncy Table Percentages')\n",
    "df_latest.total_case_rate.value_counts(sort=False, normalize=True)"
   ]
  },
  {
   "cell_type": "code",
   "execution_count": 8,
   "id": "built-combat",
   "metadata": {},
   "outputs": [
    {
     "name": "stdout",
     "output_type": "stream",
     "text": [
      "Total Death Rate Frequncy Table Percentages\n"
     ]
    },
    {
     "data": {
      "text/plain": [
       "low       0.751412\n",
       "medium    0.186441\n",
       "high      0.062147\n",
       "Name: total_death_rate, dtype: float64"
      ]
     },
     "execution_count": 8,
     "metadata": {},
     "output_type": "execute_result"
    }
   ],
   "source": [
    "print('Total Death Rate Frequncy Table Percentages')\n",
    "df_latest.total_death_rate.value_counts(sort=False, normalize=True)"
   ]
  },
  {
   "cell_type": "code",
   "execution_count": 9,
   "id": "crucial-saturday",
   "metadata": {},
   "outputs": [
    {
     "name": "stdout",
     "output_type": "stream",
     "text": [
      "Human Development Index Frequncy Table Percentages\n"
     ]
    },
    {
     "data": {
      "text/plain": [
       "very low     0.084746\n",
       "low          0.192090\n",
       "medium       0.214689\n",
       "high         0.316384\n",
       "very high    0.192090\n",
       "Name: development_rating, dtype: float64"
      ]
     },
     "execution_count": 9,
     "metadata": {},
     "output_type": "execute_result"
    }
   ],
   "source": [
    "print('Human Development Index Frequncy Table Percentages')\n",
    "df_latest.development_rating.value_counts(sort=False, normalize=True)"
   ]
  },
  {
   "cell_type": "markdown",
   "id": "lightweight-determination",
   "metadata": {},
   "source": [
    "## Summary\n",
    "\n",
    "### Total case rates and total death rates\n",
    "Around three quarters of all countries are in the low category for total cases per million people.\n",
    "Around three quarters of all countries are in the low category for total deaths per million people.\n",
    "From these frequency tables alone it isn't possible to see how many are in the low category for both.\n",
    "The majority of the rest of the countries are in the medium category for total cases total deaths, with very few being in the high category, although more (6%) are in the high category for deaths than for cases (2%).\n",
    "\n",
    "### Human Development Index\n",
    "This is more spaced out, as it has more categories. The biggest category is high with 32% of countries, the smallest is very low with 8% of countries. The other categories all contain approximately 20% of countries each."
   ]
  }
 ],
 "metadata": {
  "kernelspec": {
   "display_name": "Python (michigan)",
   "language": "python",
   "name": "michigan"
  },
  "language_info": {
   "codemirror_mode": {
    "name": "ipython",
    "version": 3
   },
   "file_extension": ".py",
   "mimetype": "text/x-python",
   "name": "python",
   "nbconvert_exporter": "python",
   "pygments_lexer": "ipython3",
   "version": "3.9.2"
  }
 },
 "nbformat": 4,
 "nbformat_minor": 5
}
