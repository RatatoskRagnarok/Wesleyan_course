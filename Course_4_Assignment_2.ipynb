{
 "cells": [
  {
   "cell_type": "markdown",
   "id": "proof-pharmacy",
   "metadata": {},
   "source": [
    "# Course 4 Assignment 2\n",
    "\n",
    "In this assignment we have to grow some random forests"
   ]
  },
  {
   "cell_type": "code",
   "execution_count": 1,
   "id": "sunrise-python",
   "metadata": {},
   "outputs": [],
   "source": [
    "# import needed libraries\n",
    "import numpy as np\n",
    "import pandas as pd\n",
    "import matplotlib.pyplot as plt\n",
    "from sklearn.model_selection import train_test_split\n",
    "from sklearn.metrics import classification_report\n",
    "import sklearn.metrics\n",
    "from sklearn.ensemble import RandomForestClassifier\n",
    "from sklearn.ensemble import ExtraTreesClassifier"
   ]
  },
  {
   "cell_type": "markdown",
   "id": "major-dimension",
   "metadata": {},
   "source": [
    "## Loading and preparing data"
   ]
  },
  {
   "cell_type": "code",
   "execution_count": 2,
   "id": "large-disorder",
   "metadata": {},
   "outputs": [],
   "source": [
    "# show all columns\n",
    "pd.set_option('display.max_columns', None)\n",
    "# loading the data from the local file\n",
    "df = pd.read_csv('data/covid_data.csv')"
   ]
  },
  {
   "cell_type": "code",
   "execution_count": 3,
   "id": "linear-mineral",
   "metadata": {},
   "outputs": [
    {
     "data": {
      "text/html": [
       "<div>\n",
       "<style scoped>\n",
       "    .dataframe tbody tr th:only-of-type {\n",
       "        vertical-align: middle;\n",
       "    }\n",
       "\n",
       "    .dataframe tbody tr th {\n",
       "        vertical-align: top;\n",
       "    }\n",
       "\n",
       "    .dataframe thead th {\n",
       "        text-align: right;\n",
       "    }\n",
       "</style>\n",
       "<table border=\"1\" class=\"dataframe\">\n",
       "  <thead>\n",
       "    <tr style=\"text-align: right;\">\n",
       "      <th></th>\n",
       "      <th>location</th>\n",
       "      <th>total_cases_per_million</th>\n",
       "      <th>population</th>\n",
       "      <th>population_density</th>\n",
       "      <th>median_age</th>\n",
       "      <th>aged_65_older</th>\n",
       "      <th>aged_70_older</th>\n",
       "      <th>gdp_per_capita</th>\n",
       "      <th>cardiovasc_death_rate</th>\n",
       "      <th>diabetes_prevalence</th>\n",
       "      <th>hospital_beds_per_thousand</th>\n",
       "      <th>life_expectancy</th>\n",
       "      <th>human_development_index</th>\n",
       "      <th>percentage_fully_vaccinated</th>\n",
       "      <th>total_deaths_binned</th>\n",
       "    </tr>\n",
       "  </thead>\n",
       "  <tbody>\n",
       "    <tr>\n",
       "      <th>80089</th>\n",
       "      <td>United Arab Emirates</td>\n",
       "      <td>52202.237</td>\n",
       "      <td>9890400.0</td>\n",
       "      <td>112.442</td>\n",
       "      <td>34.0</td>\n",
       "      <td>1.144</td>\n",
       "      <td>0.526</td>\n",
       "      <td>67293.483</td>\n",
       "      <td>317.840</td>\n",
       "      <td>17.26</td>\n",
       "      <td>1.20</td>\n",
       "      <td>77.97</td>\n",
       "      <td>0.890</td>\n",
       "      <td>0.000000</td>\n",
       "      <td>low</td>\n",
       "    </tr>\n",
       "    <tr>\n",
       "      <th>80544</th>\n",
       "      <td>United Kingdom</td>\n",
       "      <td>65218.009</td>\n",
       "      <td>67886004.0</td>\n",
       "      <td>272.898</td>\n",
       "      <td>40.8</td>\n",
       "      <td>18.517</td>\n",
       "      <td>12.527</td>\n",
       "      <td>39753.244</td>\n",
       "      <td>122.137</td>\n",
       "      <td>4.28</td>\n",
       "      <td>2.54</td>\n",
       "      <td>81.32</td>\n",
       "      <td>0.932</td>\n",
       "      <td>20.687565</td>\n",
       "      <td>high</td>\n",
       "    </tr>\n",
       "    <tr>\n",
       "      <th>81008</th>\n",
       "      <td>United States</td>\n",
       "      <td>97373.390</td>\n",
       "      <td>331002647.0</td>\n",
       "      <td>35.608</td>\n",
       "      <td>38.3</td>\n",
       "      <td>15.413</td>\n",
       "      <td>9.732</td>\n",
       "      <td>54225.446</td>\n",
       "      <td>151.089</td>\n",
       "      <td>10.79</td>\n",
       "      <td>2.77</td>\n",
       "      <td>78.86</td>\n",
       "      <td>0.926</td>\n",
       "      <td>29.620434</td>\n",
       "      <td>high</td>\n",
       "    </tr>\n",
       "    <tr>\n",
       "      <th>81421</th>\n",
       "      <td>Uruguay</td>\n",
       "      <td>55567.694</td>\n",
       "      <td>3473727.0</td>\n",
       "      <td>19.751</td>\n",
       "      <td>35.6</td>\n",
       "      <td>14.655</td>\n",
       "      <td>10.361</td>\n",
       "      <td>20551.409</td>\n",
       "      <td>160.708</td>\n",
       "      <td>6.93</td>\n",
       "      <td>2.80</td>\n",
       "      <td>77.91</td>\n",
       "      <td>0.817</td>\n",
       "      <td>17.007065</td>\n",
       "      <td>low</td>\n",
       "    </tr>\n",
       "    <tr>\n",
       "      <th>81832</th>\n",
       "      <td>Uzbekistan</td>\n",
       "      <td>2689.279</td>\n",
       "      <td>33469199.0</td>\n",
       "      <td>76.134</td>\n",
       "      <td>28.2</td>\n",
       "      <td>4.469</td>\n",
       "      <td>2.873</td>\n",
       "      <td>6253.104</td>\n",
       "      <td>724.417</td>\n",
       "      <td>7.57</td>\n",
       "      <td>4.00</td>\n",
       "      <td>71.72</td>\n",
       "      <td>0.720</td>\n",
       "      <td>0.000000</td>\n",
       "      <td>low</td>\n",
       "    </tr>\n",
       "    <tr>\n",
       "      <th>82835</th>\n",
       "      <td>Venezuela</td>\n",
       "      <td>6856.076</td>\n",
       "      <td>28435943.0</td>\n",
       "      <td>36.253</td>\n",
       "      <td>29.0</td>\n",
       "      <td>6.614</td>\n",
       "      <td>3.915</td>\n",
       "      <td>16745.022</td>\n",
       "      <td>204.850</td>\n",
       "      <td>6.47</td>\n",
       "      <td>0.80</td>\n",
       "      <td>72.06</td>\n",
       "      <td>0.711</td>\n",
       "      <td>0.000000</td>\n",
       "      <td>low</td>\n",
       "    </tr>\n",
       "    <tr>\n",
       "      <th>83298</th>\n",
       "      <td>Vietnam</td>\n",
       "      <td>29.433</td>\n",
       "      <td>97338583.0</td>\n",
       "      <td>308.127</td>\n",
       "      <td>32.6</td>\n",
       "      <td>7.150</td>\n",
       "      <td>4.718</td>\n",
       "      <td>6171.884</td>\n",
       "      <td>245.465</td>\n",
       "      <td>6.00</td>\n",
       "      <td>2.60</td>\n",
       "      <td>75.40</td>\n",
       "      <td>0.704</td>\n",
       "      <td>0.000000</td>\n",
       "      <td>low</td>\n",
       "    </tr>\n",
       "    <tr>\n",
       "      <th>84147</th>\n",
       "      <td>Yemen</td>\n",
       "      <td>209.985</td>\n",
       "      <td>29825968.0</td>\n",
       "      <td>53.508</td>\n",
       "      <td>20.3</td>\n",
       "      <td>2.922</td>\n",
       "      <td>1.583</td>\n",
       "      <td>1479.147</td>\n",
       "      <td>495.003</td>\n",
       "      <td>5.35</td>\n",
       "      <td>0.70</td>\n",
       "      <td>66.12</td>\n",
       "      <td>0.470</td>\n",
       "      <td>0.000000</td>\n",
       "      <td>low</td>\n",
       "    </tr>\n",
       "    <tr>\n",
       "      <th>84555</th>\n",
       "      <td>Zambia</td>\n",
       "      <td>4976.296</td>\n",
       "      <td>18383956.0</td>\n",
       "      <td>22.995</td>\n",
       "      <td>17.7</td>\n",
       "      <td>2.480</td>\n",
       "      <td>1.542</td>\n",
       "      <td>3689.251</td>\n",
       "      <td>234.499</td>\n",
       "      <td>3.94</td>\n",
       "      <td>2.00</td>\n",
       "      <td>63.89</td>\n",
       "      <td>0.584</td>\n",
       "      <td>0.000000</td>\n",
       "      <td>low</td>\n",
       "    </tr>\n",
       "    <tr>\n",
       "      <th>84961</th>\n",
       "      <td>Zimbabwe</td>\n",
       "      <td>2569.548</td>\n",
       "      <td>14862927.0</td>\n",
       "      <td>42.729</td>\n",
       "      <td>19.6</td>\n",
       "      <td>2.822</td>\n",
       "      <td>1.882</td>\n",
       "      <td>1899.775</td>\n",
       "      <td>307.846</td>\n",
       "      <td>1.82</td>\n",
       "      <td>1.70</td>\n",
       "      <td>61.49</td>\n",
       "      <td>0.571</td>\n",
       "      <td>0.470917</td>\n",
       "      <td>low</td>\n",
       "    </tr>\n",
       "  </tbody>\n",
       "</table>\n",
       "</div>"
      ],
      "text/plain": [
       "                   location  total_cases_per_million   population  \\\n",
       "80089  United Arab Emirates                52202.237    9890400.0   \n",
       "80544        United Kingdom                65218.009   67886004.0   \n",
       "81008         United States                97373.390  331002647.0   \n",
       "81421               Uruguay                55567.694    3473727.0   \n",
       "81832            Uzbekistan                 2689.279   33469199.0   \n",
       "82835             Venezuela                 6856.076   28435943.0   \n",
       "83298               Vietnam                   29.433   97338583.0   \n",
       "84147                 Yemen                  209.985   29825968.0   \n",
       "84555                Zambia                 4976.296   18383956.0   \n",
       "84961              Zimbabwe                 2569.548   14862927.0   \n",
       "\n",
       "       population_density  median_age  aged_65_older  aged_70_older  \\\n",
       "80089             112.442        34.0          1.144          0.526   \n",
       "80544             272.898        40.8         18.517         12.527   \n",
       "81008              35.608        38.3         15.413          9.732   \n",
       "81421              19.751        35.6         14.655         10.361   \n",
       "81832              76.134        28.2          4.469          2.873   \n",
       "82835              36.253        29.0          6.614          3.915   \n",
       "83298             308.127        32.6          7.150          4.718   \n",
       "84147              53.508        20.3          2.922          1.583   \n",
       "84555              22.995        17.7          2.480          1.542   \n",
       "84961              42.729        19.6          2.822          1.882   \n",
       "\n",
       "       gdp_per_capita  cardiovasc_death_rate  diabetes_prevalence  \\\n",
       "80089       67293.483                317.840                17.26   \n",
       "80544       39753.244                122.137                 4.28   \n",
       "81008       54225.446                151.089                10.79   \n",
       "81421       20551.409                160.708                 6.93   \n",
       "81832        6253.104                724.417                 7.57   \n",
       "82835       16745.022                204.850                 6.47   \n",
       "83298        6171.884                245.465                 6.00   \n",
       "84147        1479.147                495.003                 5.35   \n",
       "84555        3689.251                234.499                 3.94   \n",
       "84961        1899.775                307.846                 1.82   \n",
       "\n",
       "       hospital_beds_per_thousand  life_expectancy  human_development_index  \\\n",
       "80089                        1.20            77.97                    0.890   \n",
       "80544                        2.54            81.32                    0.932   \n",
       "81008                        2.77            78.86                    0.926   \n",
       "81421                        2.80            77.91                    0.817   \n",
       "81832                        4.00            71.72                    0.720   \n",
       "82835                        0.80            72.06                    0.711   \n",
       "83298                        2.60            75.40                    0.704   \n",
       "84147                        0.70            66.12                    0.470   \n",
       "84555                        2.00            63.89                    0.584   \n",
       "84961                        1.70            61.49                    0.571   \n",
       "\n",
       "       percentage_fully_vaccinated total_deaths_binned  \n",
       "80089                     0.000000                 low  \n",
       "80544                    20.687565                high  \n",
       "81008                    29.620434                high  \n",
       "81421                    17.007065                 low  \n",
       "81832                     0.000000                 low  \n",
       "82835                     0.000000                 low  \n",
       "83298                     0.000000                 low  \n",
       "84147                     0.000000                 low  \n",
       "84555                     0.000000                 low  \n",
       "84961                     0.470917                 low  "
      ]
     },
     "execution_count": 3,
     "metadata": {},
     "output_type": "execute_result"
    }
   ],
   "source": [
    "# making the data more usable for a classifier, i will get the data for the last date and try and classify countries as high or low death rate\n",
    "# prepare data\n",
    "dfx = df.dropna(subset=['continent'])  # gets rid of summaries for 'world' and 'africa' etc, as I only want data for countries\n",
    "dfx = dfx[dfx.date == '2021-04-28']\n",
    "cols = ['location', 'total_cases_per_million', 'total_deaths_per_million', 'population', 'population_density', 'people_fully_vaccinated',\n",
    "       'median_age', 'aged_65_older', 'aged_70_older', 'gdp_per_capita', 'cardiovasc_death_rate', 'diabetes_prevalence', \n",
    "        'hospital_beds_per_thousand', 'life_expectancy', 'human_development_index']\n",
    "dfx.people_fully_vaccinated = dfx.people_fully_vaccinated.fillna(0)  # if there is no data for vaccinations, I will assume it's 0\n",
    "dfx = dfx[cols].dropna()\n",
    "dfx['percentage_fully_vaccinated'] = (dfx.people_fully_vaccinated/dfx.population) * 100\n",
    "# binning response variable\n",
    "dfx['total_deaths_binned'] = pd.cut(dfx.total_deaths_per_million, 2, labels=['low', 'high'])\n",
    "# dropping columns I have transformed so the data isn't there twice as that would affect predictions\n",
    "dfx.drop(['people_fully_vaccinated', 'total_deaths_per_million'], axis=1, inplace=True)\n",
    "dfx.tail(10)"
   ]
  },
  {
   "cell_type": "markdown",
   "id": "painful-colors",
   "metadata": {},
   "source": [
    "## Growing some forests"
   ]
  },
  {
   "cell_type": "code",
   "execution_count": 4,
   "id": "advisory-brisbane",
   "metadata": {},
   "outputs": [],
   "source": [
    "y = dfx.total_deaths_binned\n",
    "X = dfx.drop(['total_deaths_binned', 'location'], axis=1)  # decision trees don't like strings, so no locations"
   ]
  },
  {
   "cell_type": "code",
   "execution_count": 5,
   "id": "smart-helena",
   "metadata": {},
   "outputs": [
    {
     "data": {
      "text/plain": [
       "array([[11,  4],\n",
       "       [ 8, 69]], dtype=int64)"
      ]
     },
     "execution_count": 5,
     "metadata": {},
     "output_type": "execute_result"
    }
   ],
   "source": [
    "# split the data in to test and train sets\n",
    "# random state means I will get the same results each time I run this\n",
    "X_test, X_train, y_test, y_train = train_test_split(X, y, test_size=0.4, random_state=0)\n",
    "\n",
    "# fit the model\n",
    "clf = RandomForestClassifier(n_estimators=10).fit(X_train, y_train)\n",
    "\n",
    "# get predictions\n",
    "y_hat = clf.predict(X_test)\n",
    "\n",
    "sklearn.metrics.confusion_matrix(y_test, y_hat)"
   ]
  },
  {
   "cell_type": "code",
   "execution_count": 6,
   "id": "wanted-sydney",
   "metadata": {},
   "outputs": [
    {
     "data": {
      "text/plain": [
       "0.8695652173913043"
      ]
     },
     "execution_count": 6,
     "metadata": {},
     "output_type": "execute_result"
    }
   ],
   "source": [
    "sklearn.metrics.accuracy_score(y_test, y_hat)"
   ]
  },
  {
   "cell_type": "markdown",
   "id": "assisted-ordering",
   "metadata": {},
   "source": [
    "So it is 87% accurate with 10 trees"
   ]
  },
  {
   "cell_type": "markdown",
   "id": "extreme-opposition",
   "metadata": {},
   "source": [
    "## Feature Importance"
   ]
  },
  {
   "cell_type": "code",
   "execution_count": 7,
   "id": "explicit-cargo",
   "metadata": {},
   "outputs": [
    {
     "name": "stdout",
     "output_type": "stream",
     "text": [
      "List of Features in descending order of importance:\n",
      "\n",
      "['total_cases_per_million', 0.18235756352313556]\n",
      "['cardiovasc_death_rate', 0.10537062743272695]\n",
      "['population', 0.07568074541233794]\n",
      "['gdp_per_capita', 0.07369520530254932]\n",
      "['aged_70_older', 0.07298244006330509]\n",
      "['human_development_index', 0.07017004597090978]\n",
      "['median_age', 0.06929804236416746]\n",
      "['life_expectancy', 0.06862980377998726]\n",
      "['percentage_fully_vaccinated', 0.06583283439090101]\n",
      "['diabetes_prevalence', 0.06498495149845335]\n",
      "['aged_65_older', 0.0594057999514822]\n",
      "['hospital_beds_per_thousand', 0.05599195675733982]\n",
      "['population_density', 0.035599983552704204]\n"
     ]
    }
   ],
   "source": [
    "mod = ExtraTreesClassifier().fit(X_train, y_train)\n",
    "lst = []\n",
    "for i, j in zip(list(X.columns), list(mod.feature_importances_)):\n",
    "    lst.append([i, j])\n",
    "lst.sort(key=lambda x: x[1], reverse=True)\n",
    "print('List of Features in descending order of importance:\\n')\n",
    "for thing in lst:\n",
    "    print(thing)"
   ]
  },
  {
   "cell_type": "markdown",
   "id": "tribal-paper",
   "metadata": {},
   "source": [
    "## Trying forests with different numbers of trees"
   ]
  },
  {
   "cell_type": "code",
   "execution_count": 8,
   "id": "expressed-procurement",
   "metadata": {},
   "outputs": [
    {
     "data": {
      "image/png": "[encoded data removed]",
      "text/plain": [
       "<Figure size 432x288 with 1 Axes>"
      ]
     },
     "metadata": {
      "needs_background": "light"
     },
     "output_type": "display_data"
    }
   ],
   "source": [
    "trees=range(25)\n",
    "accuracy=np.zeros(25)\n",
    "\n",
    "for idx in range(len(trees)):\n",
    "   classifier=RandomForestClassifier(n_estimators=idx + 1)\n",
    "   classifier=classifier.fit(X_train, y_train)\n",
    "   predictions=classifier.predict(X_test)\n",
    "   accuracy[idx]=sklearn.metrics.accuracy_score(y_test, predictions)\n",
    "   \n",
    "plt.cla()\n",
    "_ = plt.plot(trees, accuracy)"
   ]
  },
  {
   "cell_type": "markdown",
   "id": "celtic-procedure",
   "metadata": {},
   "source": [
    "To get the number of trees needed for maximum accuracy, I need the index of the maximum value in the accuracy array, + 1 because python starts indexing at 0 and my tree range started at 1."
   ]
  },
  {
   "cell_type": "code",
   "execution_count": 9,
   "id": "distributed-mother",
   "metadata": {},
   "outputs": [
    {
     "data": {
      "text/plain": [
       "23"
      ]
     },
     "execution_count": 9,
     "metadata": {},
     "output_type": "execute_result"
    }
   ],
   "source": [
    "best_no_trees = np.argmax(accuracy) + 1\n",
    "best_no_trees"
   ]
  },
  {
   "cell_type": "markdown",
   "id": "threatened-frame",
   "metadata": {},
   "source": [
    "## Rerunning the Forest with new info"
   ]
  },
  {
   "cell_type": "code",
   "execution_count": 10,
   "id": "center-alcohol",
   "metadata": {},
   "outputs": [
    {
     "data": {
      "text/plain": [
       "array([[ 5, 10],\n",
       "       [ 4, 73]], dtype=int64)"
      ]
     },
     "execution_count": 10,
     "metadata": {},
     "output_type": "execute_result"
    }
   ],
   "source": [
    "# fit the model\n",
    "clf = RandomForestClassifier(n_estimators=23).fit(X_train, y_train)\n",
    "\n",
    "# get predictions\n",
    "y_hat = clf.predict(X_test)\n",
    "\n",
    "sklearn.metrics.confusion_matrix(y_test, y_hat)"
   ]
  },
  {
   "cell_type": "code",
   "execution_count": 11,
   "id": "every-dover",
   "metadata": {},
   "outputs": [
    {
     "data": {
      "text/plain": [
       "0.8478260869565217"
      ]
     },
     "execution_count": 11,
     "metadata": {},
     "output_type": "execute_result"
    }
   ],
   "source": [
    "sklearn.metrics.accuracy_score(y_test, y_hat)"
   ]
  },
  {
   "cell_type": "markdown",
   "id": "economic-university",
   "metadata": {},
   "source": [
    "Ha, 85% is less accurate than with 10 trees!\n",
    "I think the important point is that 1 tree alone cannot be as accurate as many trees for this data."
   ]
  },
  {
   "cell_type": "markdown",
   "id": "monetary-suite",
   "metadata": {},
   "source": [
    "## Summary"
   ]
  },
  {
   "cell_type": "markdown",
   "id": "earlier-replication",
   "metadata": {},
   "source": [
    "As in most of my other earlier models, the number of covid-19 cases per million in a country is the most important predictor of the number of covid-19 related deaths in a country. I ran the model several times and while the order of feature importances changed, that was always the number one. The variable I have been interested in using, percentage of people fully vaccinated, was always in the lower half.\n",
    "\n",
    "My model using 10 trees was 87% accurate. I ran it using 1 to 25 trees and the results suggested that 23 trees would be most accurate, so I tried that and it was less accurate than my 10 tree model! I also ran the 'number of trees' code several times, and the only consistent point was that 1 tree would not work for this dataset, multiple trees are required."
   ]
  }
 ],
 "metadata": {
  "kernelspec": {
   "display_name": "Python (michigan)",
   "language": "python",
   "name": "michigan"
  },
  "language_info": {
   "codemirror_mode": {
    "name": "ipython",
    "version": 3
   },
   "file_extension": ".py",
   "mimetype": "text/x-python",
   "name": "python",
   "nbconvert_exporter": "python",
   "pygments_lexer": "ipython3",
   "version": "3.9.2"
  }
 },
 "nbformat": 4,
 "nbformat_minor": 5
}
