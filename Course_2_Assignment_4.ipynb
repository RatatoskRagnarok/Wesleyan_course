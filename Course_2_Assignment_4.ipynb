{
 "cells": [
  {
   "cell_type": "markdown",
   "id": "typical-discussion",
   "metadata": {},
   "source": [
    "# Course 2 Assignment 4\n",
    "\n",
    "## Potential Moderator\n",
    "\n",
    "For this assignment we are to perform either an ANOVA, Chi-square or Pearson correlation and see if the result is affected by the presence of a moderator variable.\n",
    "\n",
    "i.e. does one variable change the relationship we are studying"
   ]
  },
  {
   "cell_type": "markdown",
   "id": "shared-closing",
   "metadata": {},
   "source": [
    "Since my data is all quantitative, I will use the Pearson correlation again."
   ]
  },
  {
   "cell_type": "code",
   "execution_count": 1,
   "id": "technical-monte",
   "metadata": {},
   "outputs": [],
   "source": [
    "# import needed libraries\n",
    "import numpy as np\n",
    "import pandas as pd\n",
    "import matplotlib.pyplot as plt\n",
    "import seaborn as sns\n",
    "import scipy.stats as stats\n",
    "%matplotlib inline"
   ]
  },
  {
   "cell_type": "markdown",
   "id": "appreciated-burke",
   "metadata": {},
   "source": [
    "## Loading and preparing the data"
   ]
  },
  {
   "cell_type": "code",
   "execution_count": null,
   "id": "exact-session",
   "metadata": {},
   "outputs": [],
   "source": [
    "# show all columns\n",
    "pd.set_option('display.max_columns', None)\n",
    "# loading the data from the local file\n",
    "df = pd.read_csv('data/covid_data.csv')"
   ]
  },
  {
   "cell_type": "code",
   "execution_count": null,
   "id": "european-experiment",
   "metadata": {},
   "outputs": [],
   "source": [
    "# prepare data\n",
    "df.date = pd.to_datetime(df.date)\n",
    "dfx = df.dropna(subset=['continent'])  # gets rid of summaries for 'world' and 'africa' etc, as I only want data for countries\n",
    "# the columns I need for this task\n",
    "cols = ['location', 'date', 'new_cases_per_million','new_deaths_per_million', 'people_fully_vaccinated', 'aged_70_older', 'human_development_index', 'population']\n",
    "dfx = dfx[cols].dropna()  # getting rid of rows with empty data\n",
    "# getting rid of rows where new cases and  deaths are below zero (due to error correction I guess?)\n",
    "dfx = dfx[dfx.new_deaths_per_million >= 0]\n",
    "dfx = dfx[dfx.new_cases_per_million >= 0]\n",
    "# limiting it to 2021 which is when vaccinations really got started\n",
    "dfx = dfx[dfx['date'].dt.year == 2021]\n",
    "# so as to compare like with like, I'm keeping only countries with human development indices over 0.9\n",
    "dfx = dfx[dfx.human_development_index > 0.9]\n",
    "# calculating percentage of population fully vaccinated\n",
    "dfx['percentage_fully_vaccinated'] = (dfx.people_fully_vaccinated/dfx.population) * 100\n",
    "dfx.tail()"
   ]
  },
  {
   "cell_type": "markdown",
   "id": "senior-sessions",
   "metadata": {},
   "source": [
    "## Pearson Tests"
   ]
  },
  {
   "cell_type": "markdown",
   "id": "facial-keeping",
   "metadata": {},
   "source": [
    "Since age is known to be a major risk factor in covid-19 deaths, I will see if the percentage of the population that is over 70 is a moderating variable."
   ]
  },
  {
   "cell_type": "code",
   "execution_count": null,
   "id": "hungarian-truck",
   "metadata": {},
   "outputs": [],
   "source": [
    "dfx['aged_ranked'] = pd.cut(dfx.aged_70_older, 2, labels=['younger', 'older'])\n",
    "dfx[dfx.aged_ranked == 'older'].aged_70_older.describe()"
   ]
  },
  {
   "cell_type": "code",
   "execution_count": null,
   "id": "clear-vermont",
   "metadata": {},
   "outputs": [],
   "source": [
    "dfx[dfx.aged_ranked == 'younger'].aged_70_older.describe()"
   ]
  },
  {
   "cell_type": "markdown",
   "id": "violent-spectacular",
   "metadata": {},
   "source": [
    "So the two groups I will compare are the 'older' countries, who have between 12.9 and 18.5% of their population aged over 70, and the 'younger' countries, who have between 7.0 and 12.7% of their population aged over 70."
   ]
  },
  {
   "cell_type": "markdown",
   "id": "variable-affiliation",
   "metadata": {},
   "source": [
    "### original pearson tests"
   ]
  },
  {
   "cell_type": "code",
   "execution_count": null,
   "id": "neural-algeria",
   "metadata": {},
   "outputs": [],
   "source": [
    "print('association between new cases per million and percentage fully vaccinated')\n",
    "r, p = stats.pearsonr(dfx.new_cases_per_million, dfx.percentage_fully_vaccinated)\n",
    "print(f'Pearson’s correlation coefficient (r): {r}')\n",
    "print(f'p-value: {p}')\n",
    "if p > 0.05:\n",
    "    print('This result is not significant.')\n",
    "else:\n",
    "    print('This result is significant')"
   ]
  },
  {
   "cell_type": "code",
   "execution_count": null,
   "id": "appropriate-spanish",
   "metadata": {},
   "outputs": [],
   "source": [
    "print('association between new deaths per million and percentage fully vaccinated')\n",
    "r, p = stats.pearsonr(dfx.new_deaths_per_million, dfx.percentage_fully_vaccinated)\n",
    "print(f'Pearson’s correlation coefficient (r): {r}')\n",
    "print(f'p-value: {p}')\n",
    "if p > 0.05:\n",
    "    print('This result is not significant.')\n",
    "else:\n",
    "    print('This result is significant')"
   ]
  },
  {
   "cell_type": "markdown",
   "id": "worldwide-computer",
   "metadata": {},
   "source": [
    "## new pearson tests"
   ]
  },
  {
   "cell_type": "code",
   "execution_count": null,
   "id": "strange-harvard",
   "metadata": {},
   "outputs": [],
   "source": [
    "df_old = dfx[dfx.aged_ranked == 'older']\n",
    "df_young = dfx[dfx.aged_ranked == 'younger']\n",
    "names = ['older', 'younger']\n",
    "dfs = [df_old, df_young]\n",
    "\n",
    "for df, name in zip(dfs, names):\n",
    "    print(f'\\nPearson correlation for {name} countries')\n",
    "    print('\\nassociation between new cases per million and percentage fully vaccinated')\n",
    "    r, p = stats.pearsonr(df.new_cases_per_million, df.percentage_fully_vaccinated)\n",
    "    print(f'Pearson’s correlation coefficient (r): {r}')\n",
    "    print(f'p-value: {p}')\n",
    "    if p > 0.05:\n",
    "        print('This result is not significant.')\n",
    "    else:\n",
    "        print('This result is significant')\n",
    "        \n",
    "    print('\\nassociation between new deaths per million and percentage fully vaccinated')\n",
    "    r, p = stats.pearsonr(df.new_deaths_per_million, df.percentage_fully_vaccinated)\n",
    "    print(f'Pearson’s correlation coefficient (r): {r}')\n",
    "    print(f'p-value: {p}')\n",
    "    if p > 0.05:\n",
    "        print('This result is not significant.')\n",
    "    else:\n",
    "        print('This result is significant') "
   ]
  },
  {
   "cell_type": "markdown",
   "id": "removed-circle",
   "metadata": {},
   "source": [
    "## Plots"
   ]
  },
  {
   "cell_type": "code",
   "execution_count": null,
   "id": "religious-party",
   "metadata": {},
   "outputs": [],
   "source": [
    "sns.set(font_scale=1.3)\n",
    "sns.set_style('ticks')\n",
    "g = sns.lmplot(x=\"percentage_fully_vaccinated\", y=\"new_cases_per_million\", hue=\"aged_ranked\", data=dfx,\n",
    "               markers=[\"o\", \"x\"], height=7, truncate=False, scatter_kws={'alpha':0.5})\n",
    "_ = g.set(ylim=(0,2550), xlim=(0,60), ylabel='new cases per million people', xlabel='percentage of population vaccinated', \n",
    "      title='new cases per million people vs. percentage of population vaccinated')"
   ]
  },
  {
   "cell_type": "code",
   "execution_count": null,
   "id": "satisfied-sunday",
   "metadata": {},
   "outputs": [],
   "source": [
    "sns.set(font_scale=1.3)\n",
    "sns.set_style('ticks')\n",
    "g = sns.lmplot(x=\"percentage_fully_vaccinated\", y=\"new_deaths_per_million\", hue=\"aged_ranked\", data=dfx,\n",
    "               markers=[\"o\", \"x\"], height=7, truncate=False, scatter_kws={'alpha':0.5})\n",
    "_ = g.set(ylim=(0,30), xlim=(0,60), ylabel='new deaths per million people', xlabel='percentage of population vaccinated', \n",
    "      title='new deaths per million people vs. percentage of population vaccinated')"
   ]
  },
  {
   "cell_type": "markdown",
   "id": "alpha-yorkshire",
   "metadata": {},
   "source": [
    "## Summary\n",
    "\n",
    "While the original Pearson test showed no corelation between new cases per million people and the percentage of population vaccinated, this is not true in the 'older countries' subset of my sample (Countries with a Human Development Index greater than 0.9, in 2021).\n",
    "\n",
    "For those countries with more than 12.9% of their population aged 70 or older, there is a weak positive correlation between the number of new cases per million people and the percentage of population vaccinated (r = 0.162, p < 0.001). This suggests that the more people vaccinated, the more people infected with covid-19! This seems highly unlikely, and I assume there is something else going on. If you look at the graphs, you can see that the data for the older countries is concentrated in the 0 - 10 % vaccinated region, suggesting not much vaccination has actually occured in these countries, and so perhaps we don't currently have enough data to be drawing proper conclusions, I would strongly suggest in this case that correlation does not equal causation!\n",
    "\n",
    "With that in mind, although the Pearson correlation test showed a stronger correlation in the older countries between the number of new deaths per million people and the percentage of population vaccinated (r = -0.196, p < 0.001) than in the younger countries (r = -0.106, p < 0.001), or overall (r = -0.138, p < 0.001), the issues stated above suggest we should interpret that with caution."
   ]
  }
 ],
 "metadata": {
  "kernelspec": {
   "display_name": "Python (michigan)",
   "language": "python",
   "name": "michigan"
  },
  "language_info": {
   "codemirror_mode": {
    "name": "ipython",
    "version": 3
   },
   "file_extension": ".py",
   "mimetype": "text/x-python",
   "name": "python",
   "nbconvert_exporter": "python",
   "pygments_lexer": "ipython3",
   "version": "3.9.2"
  }
 },
 "nbformat": 4,
 "nbformat_minor": 5
}
